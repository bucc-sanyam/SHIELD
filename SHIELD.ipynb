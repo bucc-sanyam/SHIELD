{
 "cells": [
  {
   "cell_type": "code",
   "execution_count": 1,
   "metadata": {},
   "outputs": [
    {
     "name": "stdout",
     "output_type": "stream",
     "text": [
      "Collecting watson-developer-cloud>=1.3.4\n",
      "  Downloading https://files.pythonhosted.org/packages/4a/01/de1bc005dbd4ffde022476dc05d3f438afe72842fbc3ba0dfb6ce082aed2/watson-developer-cloud-1.4.1.tar.gz (208kB)\n",
      "Requirement not upgraded as not directly required: requests<3.0,>=2.0 in c:\\users\\archit\\anaconda3\\lib\\site-packages (from watson-developer-cloud>=1.3.4) (2.18.4)\n",
      "Requirement not upgraded as not directly required: python_dateutil>=2.5.3 in c:\\users\\archit\\anaconda3\\lib\\site-packages (from watson-developer-cloud>=1.3.4) (2.7.3)\n",
      "Collecting autobahn>=0.10.9 (from watson-developer-cloud>=1.3.4)\n",
      "  Downloading https://files.pythonhosted.org/packages/c9/7a/140264ec2c162bb22f91be76a11554f8ab0eda9bb2c775b6bc0dbbef0d4a/autobahn-18.6.1-py2.py3-none-any.whl (294kB)\n",
      "Collecting Twisted>=13.2.0 (from watson-developer-cloud>=1.3.4)\n",
      "  Downloading https://files.pythonhosted.org/packages/12/2a/e9e4fb2e6b2f7a75577e0614926819a472934b0b85f205ba5d5d2add54d0/Twisted-18.4.0.tar.bz2 (3.0MB)\n",
      "Requirement not upgraded as not directly required: pyOpenSSL>=16.2.0 in c:\\users\\archit\\anaconda3\\lib\\site-packages (from watson-developer-cloud>=1.3.4) (18.0.0)\n",
      "Collecting service-identity>=17.0.0 (from watson-developer-cloud>=1.3.4)\n",
      "  Downloading https://files.pythonhosted.org/packages/29/fa/995e364220979e577e7ca232440961db0bf996b6edaf586a7d1bd14d81f1/service_identity-17.0.0-py2.py3-none-any.whl\n",
      "Requirement not upgraded as not directly required: chardet<3.1.0,>=3.0.2 in c:\\users\\archit\\anaconda3\\lib\\site-packages (from requests<3.0,>=2.0->watson-developer-cloud>=1.3.4) (3.0.4)\n",
      "Requirement not upgraded as not directly required: idna<2.7,>=2.5 in c:\\users\\archit\\anaconda3\\lib\\site-packages (from requests<3.0,>=2.0->watson-developer-cloud>=1.3.4) (2.6)\n",
      "Requirement not upgraded as not directly required: urllib3<1.23,>=1.21.1 in c:\\users\\archit\\anaconda3\\lib\\site-packages (from requests<3.0,>=2.0->watson-developer-cloud>=1.3.4) (1.22)\n",
      "Requirement not upgraded as not directly required: certifi>=2017.4.17 in c:\\users\\archit\\anaconda3\\lib\\site-packages (from requests<3.0,>=2.0->watson-developer-cloud>=1.3.4) (2018.4.16)\n",
      "Requirement not upgraded as not directly required: six>=1.5 in c:\\users\\archit\\anaconda3\\lib\\site-packages (from python_dateutil>=2.5.3->watson-developer-cloud>=1.3.4) (1.11.0)\n",
      "Collecting txaio>=2.10.0 (from autobahn>=0.10.9->watson-developer-cloud>=1.3.4)\n",
      "  Downloading https://files.pythonhosted.org/packages/dc/2e/c8a877b0a5c2798fa93ebcc1465a72a68c089e5f8b0a852ca335751dcc5a/txaio-2.10.0-py2.py3-none-any.whl\n",
      "Collecting zope.interface>=4.4.2 (from Twisted>=13.2.0->watson-developer-cloud>=1.3.4)\n",
      "  Downloading https://files.pythonhosted.org/packages/5d/d7/aba043947b0fa58a2dd6d5e25295426508c834945840954182099c676910/zope.interface-4.5.0-cp36-cp36m-win_amd64.whl (132kB)\n",
      "Collecting constantly>=15.1 (from Twisted>=13.2.0->watson-developer-cloud>=1.3.4)\n",
      "  Using cached https://files.pythonhosted.org/packages/b9/65/48c1909d0c0aeae6c10213340ce682db01b48ea900a7d9fce7a7910ff318/constantly-15.1.0-py2.py3-none-any.whl\n",
      "Collecting incremental>=16.10.1 (from Twisted>=13.2.0->watson-developer-cloud>=1.3.4)\n",
      "  Downloading https://files.pythonhosted.org/packages/f5/1d/c98a587dc06e107115cf4a58b49de20b19222c83d75335a192052af4c4b7/incremental-17.5.0-py2.py3-none-any.whl\n",
      "Collecting Automat>=0.3.0 (from Twisted>=13.2.0->watson-developer-cloud>=1.3.4)\n",
      "  Using cached https://files.pythonhosted.org/packages/a3/86/14c16bb98a5a3542ed8fed5d74fb064a902de3bdd98d6584b34553353c45/Automat-0.7.0-py2.py3-none-any.whl\n",
      "Collecting hyperlink>=17.1.1 (from Twisted>=13.2.0->watson-developer-cloud>=1.3.4)\n",
      "  Downloading https://files.pythonhosted.org/packages/a7/b6/84d0c863ff81e8e7de87cff3bd8fd8f1054c227ce09af1b679a8b17a9274/hyperlink-18.0.0-py2.py3-none-any.whl\n",
      "Requirement not upgraded as not directly required: cryptography>=2.2.1 in c:\\users\\archit\\anaconda3\\lib\\site-packages (from pyOpenSSL>=16.2.0->watson-developer-cloud>=1.3.4) (2.2.2)\n",
      "Requirement not upgraded as not directly required: attrs in c:\\users\\archit\\anaconda3\\lib\\site-packages (from service-identity>=17.0.0->watson-developer-cloud>=1.3.4) (18.1.0)\n",
      "Collecting pyasn1 (from service-identity>=17.0.0->watson-developer-cloud>=1.3.4)\n",
      "  Downloading https://files.pythonhosted.org/packages/a0/70/2c27740f08e477499ce19eefe05dbcae6f19fdc49e9e82ce4768be0643b9/pyasn1-0.4.3-py2.py3-none-any.whl (72kB)\n",
      "Collecting pyasn1-modules (from service-identity>=17.0.0->watson-developer-cloud>=1.3.4)\n",
      "  Downloading https://files.pythonhosted.org/packages/19/02/fa63f7ba30a0d7b925ca29d034510fc1ffde53264b71b4155022ddf3ab5d/pyasn1_modules-0.2.2-py2.py3-none-any.whl (62kB)\n",
      "Requirement not upgraded as not directly required: setuptools in c:\\users\\archit\\anaconda3\\lib\\site-packages (from zope.interface>=4.4.2->Twisted>=13.2.0->watson-developer-cloud>=1.3.4) (39.1.0)\n",
      "Requirement not upgraded as not directly required: asn1crypto>=0.21.0 in c:\\users\\archit\\anaconda3\\lib\\site-packages (from cryptography>=2.2.1->pyOpenSSL>=16.2.0->watson-developer-cloud>=1.3.4) (0.24.0)\n",
      "Requirement not upgraded as not directly required: cffi>=1.7 in c:\\users\\archit\\anaconda3\\lib\\site-packages (from cryptography>=2.2.1->pyOpenSSL>=16.2.0->watson-developer-cloud>=1.3.4) (1.11.5)\n",
      "Requirement not upgraded as not directly required: pycparser in c:\\users\\archit\\anaconda3\\lib\\site-packages (from cffi>=1.7->cryptography>=2.2.1->pyOpenSSL>=16.2.0->watson-developer-cloud>=1.3.4) (2.18)\n",
      "Building wheels for collected packages: watson-developer-cloud, Twisted\n",
      "  Running setup.py bdist_wheel for watson-developer-cloud: started\n",
      "  Running setup.py bdist_wheel for watson-developer-cloud: finished with status 'done'\n",
      "  Stored in directory: C:\\Users\\Archit\\AppData\\Local\\pip\\Cache\\wheels\\9b\\cd\\8b\\3152cdaa5ae4dd2daa156f748ada34a48f6e3ff5ba01cebd49\n",
      "  Running setup.py bdist_wheel for Twisted: started\n",
      "  Running setup.py bdist_wheel for Twisted: still running...\n",
      "  Running setup.py bdist_wheel for Twisted: still running...\n",
      "  Running setup.py bdist_wheel for Twisted: finished with status 'done'\n",
      "  Stored in directory: C:\\Users\\Archit\\AppData\\Local\\pip\\Cache\\wheels\\b3\\76\\f7\\85353c829c0881e74b5366ce0ed59042b098bb4903e2da8828\n",
      "Successfully built watson-developer-cloud Twisted\n",
      "Installing collected packages: txaio, autobahn, zope.interface, constantly, incremental, Automat, hyperlink, Twisted, pyasn1, pyasn1-modules, service-identity, watson-developer-cloud\n"
     ]
    },
    {
     "name": "stderr",
     "output_type": "stream",
     "text": [
      "distributed 1.21.8 requires msgpack, which is not installed.\n",
      "Could not install packages due to an EnvironmentError: [WinError 2] The system cannot find the file specified: 'C:\\\\Users\\\\Archit\\\\Anaconda3\\\\Lib\\\\site-packages\\\\txaio\\\\aio.py'\n",
      "\n"
     ]
    }
   ],
   "source": [
    "!pip install --upgrade \"watson-developer-cloud>=1.3.4\""
   ]
  },
  {
   "cell_type": "code",
   "execution_count": 4,
   "metadata": {},
   "outputs": [],
   "source": [
    "from watson_developer_cloud import VisualRecognitionV3\n",
    "\n",
    "visual_recognition = VisualRecognitionV3(\n",
    "\tversion='2018-07-07',\n",
    "\turl='https://gateway.watsonplatform.net/visual-recognition/api',\n",
    "\tiam_api_key='HrSiw7bDCt0Zglw6ftSEpzV5n_gA60bCXh1kDTE-UPox',\n",
    "\tiam_url='https://gateway.watsonplatform.net/visual-recognition/api') # Optional"
   ]
  },
  {
   "cell_type": "code",
   "execution_count": 10,
   "metadata": {},
   "outputs": [
    {
     "name": "stdout",
     "output_type": "stream",
     "text": [
      "{\n",
      "  \"images\": [\n",
      "    {\n",
      "      \"classifiers\": [\n",
      "        {\n",
      "          \"classifier_id\": \"explicit\",\n",
      "          \"name\": \"explicit\",\n",
      "          \"classes\": [\n",
      "            {\n",
      "              \"class\": \"not explicit\",\n",
      "              \"score\": 0.985\n",
      "            }\n",
      "          ]\n",
      "        }\n",
      "      ],\n",
      "      \"image\": \"./harass4.jpg\"\n",
      "    }\n",
      "  ],\n",
      "  \"images_processed\": 1,\n",
      "  \"custom_classes\": 0\n",
      "}\n"
     ]
    }
   ],
   "source": [
    "import json\n",
    "from watson_developer_cloud import VisualRecognitionV3\n",
    "\n",
    "visual_recognition = VisualRecognitionV3(\n",
    "\t'2018-03-19',\n",
    "\turl='https://gateway.watsonplatform.net/visual-recognition/api',\n",
    "\tiam_api_key='HrSiw7bDCt0Zglw6ftSEpzV5n_gA60bCXh1kDTE-UPox')\n",
    "\n",
    "with open('./harass4.jpg', 'rb') as images_file:\n",
    "\tclasses = visual_recognition.classify(\n",
    "\t\timages_file,\n",
    "\t\tthreshold='0.6',\n",
    "\t\tclassifier_ids='explicit')\n",
    "\tprint(json.dumps(classes, indent=2))"
   ]
  },
  {
   "cell_type": "code",
   "execution_count": null,
   "metadata": {},
   "outputs": [],
   "source": []
  }
 ],
 "metadata": {
  "kernelspec": {
   "display_name": "Python 3",
   "language": "python",
   "name": "python3"
  },
  "language_info": {
   "codemirror_mode": {
    "name": "ipython",
    "version": 3
   },
   "file_extension": ".py",
   "mimetype": "text/x-python",
   "name": "python",
   "nbconvert_exporter": "python",
   "pygments_lexer": "ipython3",
   "version": "3.6.5"
  }
 },
 "nbformat": 4,
 "nbformat_minor": 2
}
